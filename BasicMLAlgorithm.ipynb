{
  "nbformat": 4,
  "nbformat_minor": 0,
  "metadata": {
    "colab": {
      "name": "BasicMLAlgorithm.ipynb",
      "provenance": []
    },
    "kernelspec": {
      "name": "python3",
      "display_name": "Python 3"
    },
    "language_info": {
      "name": "python"
    }
  },
  "cells": [
    {
      "cell_type": "code",
      "metadata": {
        "id": "-Gc8OH8W3FnU"
      },
      "source": [
        "import pandas as pd\n",
        "housing = pd.read_csv('https://storage.googleapis.com/dqlab-dataset/pythonTutorial/housing_boston.csv')"
      ],
      "execution_count": null,
      "outputs": []
    },
    {
      "cell_type": "code",
      "metadata": {
        "colab": {
          "base_uri": "https://localhost:8080/"
        },
        "id": "43TfBy6h9qyM",
        "outputId": "97c0207c-ad11-47c3-a1b6-4e24ea2fc425"
      },
      "source": [
        "from sklearn import preprocessing\n",
        "data_scaler = preprocessing.MinMaxScaler(feature_range=(0,1))\n",
        "housing[['RM','LSTAT','PTRATIO','MEDV']] = data_scaler.fit_transform(housing[['RM','LSTAT','PTRATIO','MEDV']])\n",
        "\n",
        "X = housing.drop(['MEDV'], axis = 1)\n",
        "y = housing['MEDV']\n",
        "\n",
        "print('Shape of X:', X.shape)\n",
        "print('Shape of y:', y.shape)"
      ],
      "execution_count": null,
      "outputs": [
        {
          "output_type": "stream",
          "text": [
            "Shape of X: (489, 3)\n",
            "Shape of y: (489,)\n"
          ],
          "name": "stdout"
        }
      ]
    },
    {
      "cell_type": "code",
      "metadata": {
        "colab": {
          "base_uri": "https://localhost:8080/"
        },
        "id": "udeulYVC9uxN",
        "outputId": "592f30cc-c4b1-4e72-a539-eadb3728bf07"
      },
      "source": [
        "from sklearn.model_selection import train_test_split\n",
        "X_train, X_test, y_train, y_test = train_test_split(X, y, test_size = 0.3, random_state = 0)\n",
        "\n",
        "print('Shape of X_train :', X_train.shape)\n",
        "print('Shape of y_train :', y_train.shape)\n",
        "print('Shape of X_test :', X_test.shape)\n",
        "print('Shape of y_test :', y_test.shape)"
      ],
      "execution_count": null,
      "outputs": [
        {
          "output_type": "stream",
          "text": [
            "Shape of X_train : (342, 3)\n",
            "Shape of y_train : (342,)\n",
            "Shape of X_test : (147, 3)\n",
            "Shape of y_test : (147,)\n"
          ],
          "name": "stdout"
        }
      ]
    },
    {
      "cell_type": "code",
      "metadata": {
        "id": "C9PIbXKq9yId"
      },
      "source": [
        "from sklearn.linear_model import LinearRegression\n",
        "\n",
        "reg = LinearRegression()\n",
        "reg = reg.fit(X_train, y_train) \n",
        "y_pred = reg.predict(X_test)"
      ],
      "execution_count": null,
      "outputs": []
    },
    {
      "cell_type": "markdown",
      "metadata": {
        "id": "uYksOulLAJol"
      },
      "source": [
        "Untuk model regression, kita menghitung selisih antara nilai aktual (y_test) dan nilai prediksi (y_pred) yang disebut error, adapun beberapa metric yang umum digunakan, yakni 1.) Mean Squared Error (MSE) atau rata-rata dari squared error, 2.) Root Mean Squared Error (RMSE) atau akar kuadrat dari MSE, dan 3.) Mean Absolute Error (MAE) atau rata-rata dari nilai absolut error.\n",
        "\n"
      ]
    },
    {
      "cell_type": "code",
      "metadata": {
        "colab": {
          "base_uri": "https://localhost:8080/",
          "height": 346
        },
        "id": "3dBkfpfVBVGg",
        "outputId": "e2976ea9-ef97-458c-f1ef-2e5e225b4098"
      },
      "source": [
        "from sklearn.metrics import mean_squared_error, mean_absolute_error  \n",
        "import numpy as np\n",
        "import matplotlib.pyplot as plt \n",
        "\n",
        "mse = mean_squared_error(y_test, y_pred)\n",
        "print('Mean Squared Error of testing set:', mse)\n",
        "mae = mean_absolute_error(y_test, y_pred)\n",
        "print('Mean Absolute Error of testing set:', mae)\n",
        "rmse = np.sqrt(mse)\n",
        "print('Root Mean Squared Error of testing set:', rmse)\n",
        "\n",
        "plt.scatter(y_test, y_pred, c = 'green')\n",
        "plt.xlabel('Price Actual')\n",
        "plt.ylabel('Predicted value')\n",
        "plt.title('True value vs predicted value : Linear Regression')\n",
        "plt.show()"
      ],
      "execution_count": null,
      "outputs": [
        {
          "output_type": "stream",
          "text": [
            "Mean Squared Error of testing set: 0.010913024655841009\n",
            "Mean Absolute Error of testing set: 0.0778989610312069\n",
            "Root Mean Squared Error of testing set: 0.1044654232549747\n"
          ],
          "name": "stdout"
        },
        {
          "output_type": "display_data",
          "data": {
            "image/png": "[encoded data removed]",
            "text/plain": [
              "<Figure size 432x288 with 1 Axes>"
            ]
          },
          "metadata": {
            "tags": [],
            "needs_background": "light"
          }
        }
      ]
    },
    {
      "cell_type": "markdown",
      "metadata": {
        "id": "O8Uvh5DUM0nI"
      },
      "source": [
        "Dalam unsupervised learning, secara prosedur, tahap eksplorasi data untuk memahami karakteristik data, dan tahap preprocessing tetap dilakukan. Tetapi kita tidak membagi dataset ke feature dan label; dan juga ke dalam training dan test dataset, karena pada dasarnya kita tidak memiliki informasi mengenai label/target data.\n",
        "\n",
        "K-Means merupakan tipe clustering dengan centroid based (titik pusat). Artinya kesamaan dari objek/sampel dihitung dari seberapa dekat objek itu dengan centroid atau titik pusat. Untuk menghitung kedekatan, digunakan perhitungan jarak antar 2 buah data atau jarak Minkowski. \n",
        "\n",
        "Terdapat beberapa tipe perhitungan jarak yang dapat digunakan, yaitu\n",
        "Jarak Manhattan di mana g = 1,\n",
        "Jarak Euclidean di mana g = 2,\n",
        "Jarak Chebychev di mana g = ∞.\n",
        "\n",
        "Untuk menentukan centroid, pada awalnya kita perlu mendefinisikan jumlah centroid (K) yang diinginkan, semisalnya kita menetapkan jumlah K = 3; maka pada awal iterasi, algorithm akan secara random menentukan 3 centroid. Setelah itu, objek/sample/data point yang lain akan dikelompokkan sebagai anggota dari salah satu centroid yang terdekat, sehingga terbentuk 3 cluster data. Iterasi selanjutnya, titik-titik centroid diupdate atau berpindah ke titik yang lain, dan jarak dari data point yang lain ke centroid yang baru dihitung kembali, kemudian dikelompokkan kembali berdasarkan jarak terdekat ke centroid yang baru. Iterasi akan terus berlanjut hingga diperoleh cluster dengan error terkecil, dan posisi centroid tidak lagi berubah. \n",
        "\n"
      ]
    },
    {
      "cell_type": "code",
      "metadata": {
        "id": "CWpPa9wHOpqp"
      },
      "source": [
        "import pandas as pd  \n",
        "from sklearn.cluster import KMeans\n",
        "import matplotlib.pyplot as plt\n",
        "\n",
        "dataset = pd.read_csv('https://storage.googleapis.com/dqlab-dataset/pythonTutorial/mall_customers.csv') \n",
        "X = dataset[['annual_income','spending_score']]  \n",
        "cluster_model = KMeans(n_clusters = 5, random_state = 24)  \n",
        "labels = cluster_model.fit_predict(X)"
      ],
      "execution_count": null,
      "outputs": []
    },
    {
      "cell_type": "code",
      "metadata": {
        "id": "6ibrGY7jP00h"
      },
      "source": [
        "import matplotlib.pyplot as plt\n",
        "\n",
        "X = X.values\n",
        "xs = X[:,0]\n",
        "ys = X[:,1]\n",
        "plt.scatter(xs,ys,c=labels, alpha=0.5)\n",
        "centroids = cluster_model.cluster_centers_\n",
        "centroids_x = centroids[:,0]\n",
        "centroids_y = centroids[:,1]\n",
        "plt.scatter(centroids_x,centroids_y,marker='D', s=50)\n",
        "plt.title('KMeans Clustering', fontsize = 20)\n",
        "plt.xlabel('Annual Income')\n",
        "plt.ylabel('Spending Score')\n",
        "plt.show()"
      ],
      "execution_count": null,
      "outputs": []
    },
    {
      "cell_type": "code",
      "metadata": {
        "colab": {
          "base_uri": "https://localhost:8080/",
          "height": 300
        },
        "id": "trEHpTbnRpQg",
        "outputId": "13fc9f6e-cb1a-459b-ec73-b4a60393d8d4"
      },
      "source": [
        "from sklearn.cluster import KMeans\n",
        "import matplotlib.pyplot as plt\n",
        "\n",
        "inertia = []\n",
        "for k in range(1, 10):\n",
        "    cluster_model = KMeans(n_clusters = k, random_state = 24)\n",
        "    cluster_model.fit(X)\n",
        "    inertia_value = cluster_model.inertia_\n",
        "    inertia.append(inertia_value)\n",
        "    \n",
        "plt.plot(range(1, 10), inertia)\n",
        "plt.title('The Elbow Method - Inertia plot', fontsize = 20)\n",
        "plt.xlabel('No. of Clusters')\n",
        "plt.ylabel('Inertia')\n",
        "plt.show()"
      ],
      "execution_count": null,
      "outputs": [
        {
          "output_type": "display_data",
          "data": {
            "image/png": "[encoded data removed]",
            "text/plain": [
              "<Figure size 432x288 with 1 Axes>"
            ]
          },
          "metadata": {
            "tags": [],
            "needs_background": "light"
          }
        }
      ]
    }
  ]
}